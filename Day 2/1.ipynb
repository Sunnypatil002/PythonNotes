{
 "cells": [
  {
   "attachments": {},
   "cell_type": "markdown",
   "metadata": {},
   "source": [
    "### SUDOKU\n",
    "\n"
   ]
  },
  {
   "cell_type": "code",
   "execution_count": 30,
   "metadata": {},
   "outputs": [
    {
     "ename": "TypeError",
     "evalue": "'tuple' object is not callable",
     "output_type": "error",
     "traceback": [
      "\u001b[1;31m---------------------------------------------------------------------------\u001b[0m",
      "\u001b[1;31mTypeError\u001b[0m                                 Traceback (most recent call last)",
      "Cell \u001b[1;32mIn[30], line 10\u001b[0m\n\u001b[0;32m      1\u001b[0m \u001b[39m# rows = 9\u001b[39;00m\n\u001b[0;32m      2\u001b[0m \u001b[39m# cols = 9\u001b[39;00m\n\u001b[0;32m      3\u001b[0m \u001b[39m# array_2d = [[0] * cols for _ in range(rows)]\u001b[39;00m\n\u001b[1;32m   (...)\u001b[0m\n\u001b[0;32m      6\u001b[0m \u001b[39m# for row in array_2d:\u001b[39;00m\n\u001b[0;32m      7\u001b[0m \u001b[39m#     print(rows)\u001b[39;00m\n\u001b[0;32m      9\u001b[0m \u001b[39mimport\u001b[39;00m \u001b[39mnumpy\u001b[39;00m \u001b[39mas\u001b[39;00m \u001b[39mnp\u001b[39;00m\n\u001b[1;32m---> 10\u001b[0m a \u001b[39m=\u001b[39m np\u001b[39m.\u001b[39;49mzeros((\u001b[39m9\u001b[39;49m,\u001b[39m9\u001b[39;49m))\n\u001b[0;32m     11\u001b[0m \u001b[39mprint\u001b[39m(a)\n",
      "\u001b[1;31mTypeError\u001b[0m: 'tuple' object is not callable"
     ]
    }
   ],
   "source": [
    "# rows = 9\n",
    "# cols = 9\n",
    "# array_2d = [[0] * cols for _ in range(rows)]\n",
    "# print(array_2d)\n",
    "\n",
    "# for row in array_2d:\n",
    "#     print(rows)\n",
    "\n",
    "import numpy as np\n",
    "a = np.zeros((9,9))\n",
    "print(a)\n"
   ]
  },
  {
   "cell_type": "code",
   "execution_count": 32,
   "metadata": {},
   "outputs": [
    {
     "name": "stderr",
     "output_type": "stream",
     "text": [
      "<>:1: SyntaxWarning: list indices must be integers or slices, not tuple; perhaps you missed a comma?\n",
      "<>:1: SyntaxWarning: list indices must be integers or slices, not tuple; perhaps you missed a comma?\n",
      "C:\\Users\\CitiusUser\\AppData\\Local\\Temp\\ipykernel_3176\\2716686363.py:1: SyntaxWarning: list indices must be integers or slices, not tuple; perhaps you missed a comma?\n",
      "  array =    [[3, 0, 6, 5, 0, 8, 4, 0,]\n"
     ]
    },
    {
     "ename": "TypeError",
     "evalue": "list indices must be integers or slices, not tuple",
     "output_type": "error",
     "traceback": [
      "\u001b[1;31m---------------------------------------------------------------------------\u001b[0m",
      "\u001b[1;31mTypeError\u001b[0m                                 Traceback (most recent call last)",
      "Cell \u001b[1;32mIn[32], line 1\u001b[0m\n\u001b[1;32m----> 1\u001b[0m array \u001b[39m=\u001b[39m    [[\u001b[39m3\u001b[39;49m, \u001b[39m0\u001b[39;49m, \u001b[39m6\u001b[39;49m, \u001b[39m5\u001b[39;49m, \u001b[39m0\u001b[39;49m, \u001b[39m8\u001b[39;49m, \u001b[39m4\u001b[39;49m, \u001b[39m0\u001b[39;49m,]\n\u001b[0;32m      2\u001b[0m             [\u001b[39m5\u001b[39;49m, \u001b[39m2\u001b[39;49m, \u001b[39m0\u001b[39;49m, \u001b[39m0\u001b[39;49m, \u001b[39m0\u001b[39;49m, \u001b[39m0\u001b[39;49m, \u001b[39m0\u001b[39;49m, \u001b[39m0\u001b[39;49m, \u001b[39m0\u001b[39;49m],\n\u001b[0;32m      3\u001b[0m             [\u001b[39m0\u001b[39m, \u001b[39m8\u001b[39m, \u001b[39m7\u001b[39m, \u001b[39m0\u001b[39m, \u001b[39m0\u001b[39m, \u001b[39m0\u001b[39m, \u001b[39m0\u001b[39m, \u001b[39m3\u001b[39m, \u001b[39m1\u001b[39m],\n\u001b[0;32m      4\u001b[0m             [\u001b[39m0\u001b[39m, \u001b[39m0\u001b[39m, \u001b[39m3\u001b[39m, \u001b[39m0\u001b[39m, \u001b[39m1\u001b[39m, \u001b[39m0\u001b[39m, \u001b[39m0\u001b[39m, \u001b[39m8\u001b[39m, \u001b[39m0\u001b[39m],\n\u001b[0;32m      5\u001b[0m             [\u001b[39m9\u001b[39m,\u001b[39m0\u001b[39m, \u001b[39m0\u001b[39m, \u001b[39m8\u001b[39m, \u001b[39m6\u001b[39m, \u001b[39m3\u001b[39m, \u001b[39m0\u001b[39m, \u001b[39m0\u001b[39m, \u001b[39m5\u001b[39m],\n\u001b[0;32m      6\u001b[0m             [\u001b[39m0\u001b[39m, \u001b[39m5\u001b[39m, \u001b[39m0\u001b[39m, \u001b[39m0\u001b[39m, \u001b[39m9\u001b[39m, \u001b[39m0\u001b[39m, \u001b[39m6\u001b[39m, \u001b[39m0\u001b[39m, \u001b[39m0\u001b[39m], \n\u001b[0;32m      7\u001b[0m             [\u001b[39m1\u001b[39m, \u001b[39m3\u001b[39m, \u001b[39m0\u001b[39m, \u001b[39m0\u001b[39m, \u001b[39m0\u001b[39m, \u001b[39m0\u001b[39m, \u001b[39m2\u001b[39m, \u001b[39m5\u001b[39m, \u001b[39m0\u001b[39m],\n\u001b[0;32m      8\u001b[0m             [\u001b[39m0\u001b[39m, \u001b[39m0\u001b[39m, \u001b[39m0\u001b[39m, \u001b[39m0\u001b[39m, \u001b[39m0\u001b[39m, \u001b[39m0\u001b[39m, \u001b[39m0\u001b[39m, \u001b[39m7\u001b[39m, \u001b[39m4\u001b[39m],\n\u001b[0;32m      9\u001b[0m             [\u001b[39m0\u001b[39m, \u001b[39m0\u001b[39m, \u001b[39m5\u001b[39m, \u001b[39m2\u001b[39m, \u001b[39m0\u001b[39m, \u001b[39m6\u001b[39m, \u001b[39m3\u001b[39m, \u001b[39m0\u001b[39m, \u001b[39m0\u001b[39m]]\n",
      "\u001b[1;31mTypeError\u001b[0m: list indices must be integers or slices, not tuple"
     ]
    }
   ],
   "source": [
    "array =    [[3, 0, 6, 5, 0, 8, 4, 0,]\n",
    "            [5, 2, 0, 0, 0, 0, 0, 0, 0],\n",
    "            [0, 8, 7, 0, 0, 0, 0, 3, 1],\n",
    "            [0, 0, 3, 0, 1, 0, 0, 8, 0],\n",
    "            [9,0, 0, 8, 6, 3, 0, 0, 5],\n",
    "            [0, 5, 0, 0, 9, 0, 6, 0, 0], \n",
    "            [1, 3, 0, 0, 0, 0, 2, 5, 0],\n",
    "            [0, 0, 0, 0, 0, 0, 0, 7, 4],\n",
    "            [0, 0, 5, 2, 0, 6, 3, 0, 0]]"
   ]
  },
  {
   "cell_type": "code",
   "execution_count": null,
   "metadata": {},
   "outputs": [],
   "source": []
  }
 ],
 "metadata": {
  "kernelspec": {
   "display_name": "Python 3",
   "language": "python",
   "name": "python3"
  },
  "language_info": {
   "codemirror_mode": {
    "name": "ipython",
    "version": 3
   },
   "file_extension": ".py",
   "mimetype": "text/x-python",
   "name": "python",
   "nbconvert_exporter": "python",
   "pygments_lexer": "ipython3",
   "version": "3.11.4"
  },
  "orig_nbformat": 4
 },
 "nbformat": 4,
 "nbformat_minor": 2
}
