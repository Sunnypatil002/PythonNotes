{
 "cells": [
  {
   "cell_type": "code",
   "execution_count": 5,
   "metadata": {},
   "outputs": [],
   "source": [
    "import os\n",
    "import shutil as s\n",
    "\n",
    "def segregate():\n",
    "    entries = os.listdir('C:\\\\Users\\\\CitiusUser\\\\Desktop\\\\python')\n",
    "    print(entries)\n",
    "    for i in entries:\n",
    "        \n",
    "    a = \"C:\\\\Users\\\\CitiusUser\\\\Desktop\\\\python\\\\change.txt.txt\"\n",
    "    if(a.endswith('.txt')):\n",
    "        s.move(a , \"C:\\\\Users\\\\CitiusUser\\\\Desktop\\\\python\\\\segregate\\\\txts\")\n",
    "    elif(a.endswith('.py')):\n",
    "        s.move(a , \"C:\\\\Users\\\\CitiusUser\\\\Desktop\\\\python\\\\segregate\\\\pys\")\n",
    "\n",
    "\n",
    "segregate()\n"
   ]
  },
  {
   "cell_type": "code",
   "execution_count": 8,
   "metadata": {},
   "outputs": [
    {
     "data": {
      "text/plain": [
       "['.git',\n",
       " 'change.txt.txt',\n",
       " 'Day 1',\n",
       " 'Day 2',\n",
       " 'Day 3',\n",
       " 'Day 4',\n",
       " 'Day 5',\n",
       " 'Day 6',\n",
       " 'Day 7',\n",
       " 'individual project',\n",
       " 'segregate']"
      ]
     },
     "execution_count": 8,
     "metadata": {},
     "output_type": "execute_result"
    }
   ],
   "source": [
    "entries = os.listdir('C:\\\\Users\\\\CitiusUser\\\\Desktop\\\\python')\n",
    "for i in entries:\n",
    "    if(a.endswith('.txt')):\n",
    "        s.move(a , \"C:\\\\Users\\\\CitiusUser\\\\Desktop\\\\python\\\\segregate\\\\txts\")\n",
    "    elif(a.endswith('.py')):\n",
    "        s.move(a , \"C:\\\\Users\\\\CitiusUser\\\\Desktop\\\\python\\\\segregate\\\\pys\")\n",
    "\n",
    "\n"
   ]
  },
  {
   "cell_type": "code",
   "execution_count": null,
   "metadata": {},
   "outputs": [],
   "source": []
  }
 ],
 "metadata": {
  "kernelspec": {
   "display_name": "Python 3",
   "language": "python",
   "name": "python3"
  },
  "language_info": {
   "codemirror_mode": {
    "name": "ipython",
    "version": 3
   },
   "file_extension": ".py",
   "mimetype": "text/x-python",
   "name": "python",
   "nbconvert_exporter": "python",
   "pygments_lexer": "ipython3",
   "version": "3.11.4"
  },
  "orig_nbformat": 4
 },
 "nbformat": 4,
 "nbformat_minor": 2
}
