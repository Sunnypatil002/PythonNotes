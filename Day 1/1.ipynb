{
 "cells": [
  {
   "cell_type": "code",
   "execution_count": null,
   "metadata": {},
   "outputs": [],
   "source": [
    "nguests =input(\"enter the number of guests\")\n",
    "Age=input(\"Enter the ages of guest\")\n",
    "list=Age.split(' ')\n",
    "print(list)\n",
    "l = [eval(i) for i in list]\n",
    "print(l)\n",
    "for i in l:\n",
    "    print(i)\n",
    "    if(i<=2):\n",
    "        charges = 0\n",
    "        print(\"the charges to be paid are :$\",charges)\n",
    "    elif(i>2 and i<=12):\n",
    "        charges = 14\n",
    "        print(\"the charges to be paid are :$\",charges)\n",
    "    elif(i>12 and i<65):\n",
    "        charges = 18\n",
    "        print(\"the charges to be paid are :$\",charges)\n",
    "    else :\n",
    "        charges = 23\n",
    "        print(\"the charges to be paid are :$\",charges)\n",
    "#I/P read number of guests and ages of all guests\n",
    "#O/P cost\n",
    "# name quantity cost\n"
   ]
  },
  {
   "attachments": {},
   "cell_type": "markdown",
   "metadata": {},
   "source": []
  },
  {
   "cell_type": "code",
   "execution_count": null,
   "metadata": {},
   "outputs": [],
   "source": [
    "i=int(input(\"Enter the ages of guest\"))\n",
    "\n",
    "#list=Age.split(' ')\n",
    "#l = [eval(i) for i in list]\n",
    "if(i<=2):\n",
    "    charges = 0\n",
    "    print(\"the charges to be paid are :\",charges)\n",
    "elif(i>2 and i<=12):\n",
    "    charges = 14\n",
    "    print(\"the charges to be paid are :\",charges)\n",
    "elif(i>12 and i<65):\n",
    "    charges = 18\n",
    "    print(\"the charges to be paid are :\",charges)\n",
    "else :\n",
    "    charges = 23\n",
    "    print(\"the charges to be paid are :\",charges)\n",
    "\n",
    "\n",
    "\n",
    "\n",
    "#I/P read number of guests and ages of all guests\n",
    "#O/P cost"
   ]
  },
  {
   "cell_type": "code",
   "execution_count": null,
   "metadata": {},
   "outputs": [],
   "source": [
    "import copy\n",
    "OG_L=[1,2,3,[4,5]]\n",
    "shallow_copy= copy.copy(OG_L)\n",
    "deep_copy= copy.deepcopy(OG_L)\n",
    "print(OG_L)\n",
    "print(shallow_copy)\n",
    "print(deep_copy)\n",
    "\n",
    "OG_L[0]=10\n",
    "OG_L[3][0]=40\n",
    "print(OG_L)\n",
    "print(shallow_copy)\n",
    "print(deep_copy)"
   ]
  },
  {
   "cell_type": "code",
   "execution_count": null,
   "metadata": {},
   "outputs": [],
   "source": [
    "import copy\n",
    "OG_L=[1,2,3,4,5]\n",
    "shallow_copy= copy.copy(OG_L)\n",
    "deep_copy= copy.deepcopy(OG_L)\n",
    "print(OG_L)\n",
    "print(shallow_copy)\n",
    "print(deep_copy)\n",
    "\n",
    "OG_L[0]=10\n",
    "# OG_L[3][0]=40\n",
    "print(OG_L)\n",
    "print(shallow_copy)\n",
    "print(deep_copy)"
   ]
  },
  {
   "cell_type": "code",
   "execution_count": null,
   "metadata": {},
   "outputs": [],
   "source": [
    "\n",
    "\n",
    "dec=10           #int(input(\"enter the decimal number\"))\n",
    "ans = 0\n",
    "i=0\n",
    "while(dec>0):\n",
    "    rem=dec%2\n",
    "    # print(\"a\",rem)\n",
    "    ans = ans+rem*pow(10,i)\n",
    "    # print (ans)\n",
    "    dec=dec//2\n",
    "    i = i+1\n",
    "print(\"binary form of entered number is \")"
   ]
  },
  {
   "cell_type": "code",
   "execution_count": null,
   "metadata": {},
   "outputs": [],
   "source": [
    "\n",
    "n=4\n",
    "a=[]\n",
    "for i in range(0,n):\n",
    "    val=int(input())\n",
    "    a.append(val)\n",
    "ans=0\n",
    "for i in range(0,n):\n",
    "    if(a[i]==1):\n",
    "        ans = ans+pow(2,n-1-i)\n",
    "print(ans)"
   ]
  },
  {
   "cell_type": "code",
   "execution_count": null,
   "metadata": {},
   "outputs": [],
   "source": [
    "team =['rcb','csk','mum','gl','kk']\n",
    "val= [0,0,0,0,0]\n",
    "myDict = dict(zip(team,val))\n",
    "print(myDict)\n",
    "for i in range(0,len(team)):\n",
    "    for j in range(i+1,len(team)):\n",
    "        print(team[i] ,\"vs\" ,team[j])\n",
    "        score = str(input('enter the name of winning team'))\n",
    "        if(team[i]==score):\n",
    "            myDict[team[i]]+= 2\n",
    "        elif(team[j]==score):\n",
    "            myDict[team[j]]+= 2\n",
    "        else:\n",
    "            myDict[team[i]]+=1\n",
    "            myDict[team[j]]+=1\n",
    "print(myDict)\n",
    "sorted_dict = dict(sorted(myDict.items(), key=lambda x: x[1], reverse=True))\n",
    "KEYS=list(sorted_dict.keys())\n",
    "\n",
    "\n"
   ]
  },
  {
   "cell_type": "code",
   "execution_count": null,
   "metadata": {},
   "outputs": [],
   "source": [
    "team =['rcb','csk','mum','gl','kk']\n",
    "val= [0,0,0,0,0]\n",
    "myDict = dict(zip(team,val))\n",
    "print(myDict)\n",
    "for i in range(0,len(team)):\n",
    "    for j in range(i+1,len(team)):\n",
    "        print(team[i] ,\"vs\" ,team[j])\n",
    "        score = str(input('enter the name of winning team'))\n",
    "        print(\"the wnning team is :\",score)\n",
    "        if(team[i]==score):\n",
    "            myDict[team[i]]+= 2\n",
    "        elif(team[j]==score):\n",
    "            myDict[team[j]]+= 2\n",
    "        else:\n",
    "            myDict[team[i]]+=1\n",
    "            myDict[team[j]]+=1\n",
    "print(myDict)\n",
    "myDict = dict(sorted(myDict.items(), key=lambda x: x[1], reverse=True))\n",
    "\n",
    "print(myDict) \n",
    "myDict = {key: 0 for key in myDict}\n",
    "print(myDict)\n",
    "\n",
    "print(list(myDict)[0],\"VS\",list(myDict)[2])\n",
    "score=str(input())\n",
    "print(score)\n",
    "if(score==list(myDict)[0]):\n",
    "    myDict[list(myDict)[0]]+=2\n",
    "else:\n",
    "    myDict[list(myDict)[2]]+=2    \n",
    "\n",
    "\n",
    "print(list(myDict)[1],\"VS\",list(myDict)[3])\n",
    "score=str(input())\n",
    "if(score==list(myDict)[1]):\n",
    "    myDict[list(myDict)[1]]+=2\n",
    "else:\n",
    "    myDict[list(myDict)[3]]+=2       \n",
    "\n",
    "\n",
    "myDict =dict(sorted(myDict.items(),key=lambda x:x[1],reverse=True))\n",
    "print(myDict)      \n",
    "\n",
    "print(list(myDict)[0],\"VS\",list(myDict)[1])\n",
    "score=str(input())\n",
    "if(score==list(myDict)[0]):\n",
    "    myDict[list(myDict)[0]]+=2\n",
    "else:\n",
    "    myDict[list(myDict)[1]]+=2    \n",
    "\n",
    "myDict =dict(sorted(myDict.items(),key=lambda x:x[1],reverse=True))\n",
    "\n",
    "print(\"Winning team is:\",list(myDict)[0])"
   ]
  },
  {
   "attachments": {},
   "cell_type": "markdown",
   "metadata": {},
   "source": [
    "below trial error\n"
   ]
  },
  {
   "cell_type": "code",
   "execution_count": null,
   "metadata": {},
   "outputs": [],
   "source": [
    "dictA = {1:'Mon',2:'Tue',3:'Wed',4:'Thu',5:'Fri'}\n",
    "print(dictA.keys())\n",
    "keys_list = list(dictA.keys())\n",
    "\n",
    "for key in dictA:\n",
    "    dictA[key] = 0\n",
    "print(dictA)\n",
    "# Access the key at index position 1\n",
    "if len(keys_list) > 1:\n",
    "    key_at_index_1 = keys_list[1]\n",
    "    print(key_at_index_1)\n",
    "else:\n",
    "    print(\"The dictionary does not have enough keys.\")"
   ]
  },
  {
   "cell_type": "code",
   "execution_count": null,
   "metadata": {},
   "outputs": [],
   "source": [
    "s = \"23+4\"\n",
    "a = 0\n",
    "b = 0\n",
    "for i in range(0,len(s)):\n",
    "    test=type(i)\n",
    "    print(test,i)\n",
    "    if(i!=\"+\"):\n",
    "        a = int(s[i])+a*10\n",
    "    else:\n",
    "        i+=1\n",
    "        b = int(s[i]+b*10)\n"
   ]
  },
  {
   "cell_type": "code",
   "execution_count": null,
   "metadata": {},
   "outputs": [],
   "source": []
  },
  {
   "cell_type": "code",
   "execution_count": null,
   "metadata": {},
   "outputs": [],
   "source": []
  },
  {
   "cell_type": "code",
   "execution_count": null,
   "metadata": {},
   "outputs": [],
   "source": [
    "import numpy as np\n",
    "\n",
    "\n",
    "\n",
    "a2D = np.array([[3, 0, 6, 5, 0, 8, 4, 0, 0],\n",
    "            [5, 2, 0, 0, 0, 0, 0, 0, 0],\n",
    "            [0, 8, 7, 0, 0, 0, 0, 3, 1],\n",
    "            [0, 0, 3, 0, 1, 0, 0, 8, 0],\n",
    "            [9,0, 0, 8, 6, 3, 0, 0, 5],\n",
    "            [0, 5, 0, 0, 9, 0, 6, 0, 0], \n",
    "            [1, 3, 0, 0, 0, 0, 2, 5, 0],\n",
    "            [0, 0, 0, 0, 0, 0, 0, 7, 4],\n",
    "            [0, 0, 5, 2, 0, 6, 3, 0, 0]])\n",
    "print(a2D)\n",
    "\n",
    "def sodukochecker(a):\n",
    "    return a\n",
    "sodukochecker(a2D)"
   ]
  },
  {
   "cell_type": "code",
   "execution_count": null,
   "metadata": {},
   "outputs": [],
   "source": [
    "a2D = np.array([[3, 0, 6, 5, 0, 8, 4, 0, 0],\n",
    "            [5, 2, 0, 0, 0, 0, 0, 0, 0],\n",
    "            [0, 8, 7, 0, 0, 0, 0, 3, 1],\n",
    "            [0, 0, 3, 0, 1, 0, 0, 8, 0],\n",
    "            [9,0, 0, 8, 6, 3, 0, 0, 5],\n",
    "            [0, 5, 0, 0, 9, 0, 6, 0, 0], \n",
    "            [1, 3, 0, 0, 0, 0, 2, 5, 0],\n",
    "            [0, 0, 0, 0, 0, 0, 0, 7, 4],\n",
    "            [0, 0, 5, 2, 0, 6, 3, 0, 0]])\n",
    "a2D[0][2]\n",
    "\n",
    "row = 9\n",
    "col = 9\n",
    "N = 9\n",
    "def check(a,row,col):\n",
    "    if(array,row,col):\n",
    "    \n",
    "\n",
    "\n",
    "check(a2D)"
   ]
  },
  {
   "cell_type": "code",
   "execution_count": null,
   "metadata": {},
   "outputs": [],
   "source": [
    "n = input(\"enter a number\")\n",
    "\n",
    "a = 0\n",
    "for i in range(1,len(n)+1):\n",
    "    a = pow(int(n[i-1]),i) +a\n",
    "    print(a)\n",
    "\n",
    "if (a == int(n)):\n",
    "    print(\"entered number {} is disarion\".format(a))\n",
    "else :\n",
    "    print(\"entered number {} is not disarion\".format(a))\n",
    "    \n"
   ]
  },
  {
   "cell_type": "code",
   "execution_count": null,
   "metadata": {},
   "outputs": [],
   "source": [
    "a = input(\"enter the string\")\n",
    "ar = a[::-1]             #reverse the string\n",
    "ar_list = list(ar)                  # converting the string to a list of elements\n",
    "for i in range(0,len(ar_list)):             # encrypting the given values with assigned elements\n",
    "\n",
    "\n",
    "    if(ar_list[i] == 'a'):\n",
    "        ar_list[i] = '0'\n",
    "    elif(ar_list[i] == 'e'):\n",
    "        ar_list[i] = '1'\n",
    "    elif(ar_list[i] == 'i' or ar_list[i] == '0'):\n",
    "        ar_list[i] = '2'\n",
    "    elif(ar_list[i] == 'u'):\n",
    "        ar_list[i] = '3'\n",
    "\n",
    "arlist = ar_list.append('aca')      # added 'aca' to the end of the list\n",
    "ar_list = ''.join(ar_list)          # joining the list elements together to form a single string\n",
    "print(ar_list)\n",
    "\n",
    "\n",
    "\n"
   ]
  },
  {
   "cell_type": "code",
   "execution_count": null,
   "metadata": {},
   "outputs": [],
   "source": [
    "a = 'suney'\n",
    "ar = a[::-1]\n",
    "ar = a[::-2]\n",
    "ar"
   ]
  },
  {
   "attachments": {},
   "cell_type": "markdown",
   "metadata": {},
   "source": [
    "### Write a program that takes coordinates of three points of a triangle in the form of a 2d array and returns the perimeter of the triangle. The given points are the vertices of a triangle on a two-dimensional plane.\n"
   ]
  },
  {
   "cell_type": "code",
   "execution_count": null,
   "metadata": {},
   "outputs": [],
   "source": [
    "def co():\n",
    "    x1,y1 = [int(x) for x in input('enter the cordinates').split(',')]\n",
    "    x2,y2 = [int(x) for x in input('enter the cordinates').split(',')]\n",
    "    x3,y3 = [int(x) for x in input('enter the cordinates').split(',')]\n",
    "    L = [[x1,y1],[x2,y2],[x3,y3]]\n",
    "    print(L)\n",
    "    a = pow((pow(L[0][0] - L[1][0],2) + (pow(L[0][1] - L[1][1],2))),0.5)\n",
    "    b = pow((pow(L[1][0] - L[2][0],2) + (pow(L[1][1] - L[2][1],2))),0.5)\n",
    "    c = pow((pow(L[0][0] - L[2][0],2) + (pow(L[0][1] - L[2][1],2))),0.5)\n",
    "    \n",
    "    print(\"perimeter of traingle with given coordinates is : \",a+b+c)\n",
    "\n",
    "\n",
    "co()\n",
    "\n"
   ]
  },
  {
   "attachments": {},
   "cell_type": "markdown",
   "metadata": {},
   "source": [
    "### Write a Python program that takes a number as an input and checks whether the digits of the number divide it and return Yes if it divides else No.\n"
   ]
  },
  {
   "cell_type": "code",
   "execution_count": null,
   "metadata": {},
   "outputs": [],
   "source": [
    "def div():\n",
    "    n = str(input(\"enter a number:\"))\n",
    "    bool = False\n",
    "    for i in range(0,len(n)):\n",
    "        digit  = int(n[i])\n",
    "        if(int(n)%digit == 0):\n",
    "            bool = True\n",
    "        else:\n",
    "            bool = False\n",
    "            break            \n",
    "    return bool\n",
    "div()"
   ]
  },
  {
   "attachments": {},
   "cell_type": "markdown",
   "metadata": {},
   "source": [
    "#####   ! Write a Python program for Sudoku solver.\n",
    "### Write a program For Converting Roman Numerals To Decimal Lying Between 1 to 3999.\n",
    "Symbol Value\n",
    "I              1\n",
    "IV           4 \n",
    "V            5 \n",
    "IX           9 \n",
    "X            10 \n",
    "XL          40 \n",
    "L            50 \n",
    "XC         90 \n",
    "C           100\n",
    "CD         400 \n",
    "D          500 \n",
    "CM      900 \n",
    "M       1000\n"
   ]
  },
  {
   "attachments": {},
   "cell_type": "markdown",
   "metadata": {},
   "source": [
    "### The Collatz sequence is as follows:\n",
    "Start with some given integer n.\n",
    "If it is even, the next number will be n divided by 2.\n",
    "If it is odd, multiply it by 3 and add 1 to make the next number.\n",
    "The sequence stops when it reaches 1.\n",
    "According to the Collatz conjecture, it will always reach 1. If that's true, you can construct a finite sequence following the aforementioned method for any given integer.\n",
    "Write a program that takes in an integer n and returns the highest integer in the corresponding Collatz sequence"
   ]
  },
  {
   "cell_type": "code",
   "execution_count": null,
   "metadata": {},
   "outputs": [],
   "source": [
    "def collatz():\n",
    "    n = int(input(\"enter the number\"))\n",
    "    l=[]\n",
    "    l.append(n)\n",
    "    while(n>1):\n",
    "        if(n%2==0):\n",
    "            n = n/2\n",
    "            l.append(n)\n",
    "        else:\n",
    "            n = n*3+1\n",
    "            l.append(n)\n",
    "    return max(l)\n",
    "\n",
    "collatz()"
   ]
  },
  {
   "attachments": {},
   "cell_type": "markdown",
   "metadata": {},
   "source": [
    "### A quadratic equation ax^2+bx+c = 0 has either 0,1, or 2 distinct solutions for real values of x. Write a program to determine the number of solutions to the equation, given a,b and c.\n"
   ]
  },
  {
   "cell_type": "code",
   "execution_count": null,
   "metadata": {},
   "outputs": [],
   "source": [
    "def quad():\n",
    "    a = int(input(\"enter a\"))\n",
    "    b = int(input(\"enter a\"))\n",
    "    c = int(input(\"enter a\"))\n",
    "    d = pow(b,2)-4*a*c\n",
    "    if(d == 0):\n",
    "        print(\"only one real root exists\")\n",
    "    elif(d<0):\n",
    "        print(\"roots are not real\")\n",
    "    else :\n",
    "        print('roots are real and unequal')\n",
    "quad()"
   ]
  },
  {
   "attachments": {},
   "cell_type": "markdown",
   "metadata": {},
   "source": [
    "### Write a program to establish if a given integer num is a Curzon number. If (1+2^num) is exactly divisible by (1+2*num), then num is a Curzon number.\n",
    "Example: Input: 5 Output: True  \n",
    "#### 2 ** 5 + 1 = 33 \n",
    "#### 2 * 5 + 1 = 11 \n",
    "#### 33 is a multiple of 11\n"
   ]
  },
  {
   "cell_type": "code",
   "execution_count": null,
   "metadata": {},
   "outputs": [],
   "source": [
    "def curz():\n",
    "    n = int(input('enter the number'))\n",
    "    l= 1+pow(2,n)\n",
    "    m = 1+2*n\n",
    "    if(l%m==0):\n",
    "        print(\" {} is a curzon number\".format(n))\n",
    "    else :\n",
    "        print(\" {} is not a curzon number\".format(n))\n",
    "curz()\n"
   ]
  },
  {
   "attachments": {},
   "cell_type": "markdown",
   "metadata": {},
   "source": [
    "### In cricket, an over consists of six deliveries a bowler bowls from one end. Write a program that takes the number of balls bowled by a bowler and calculates the number of overs and balls bowled by him/her. Return the value as a float, in the format overs.balls.\n"
   ]
  },
  {
   "cell_type": "code",
   "execution_count": null,
   "metadata": {},
   "outputs": [],
   "source": [
    "def over():\n",
    "    n = int(input(\"enter the number of total balls bowled\"))\n",
    "    a= n//6\n",
    "    b = n%6\n",
    "    print(\"{}.{}\".format(a,b))\n",
    "over()"
   ]
  },
  {
   "attachments": {},
   "cell_type": "markdown",
   "metadata": {},
   "source": [
    "### Write a program that prints the numbers from 1 to 100 and for multiples of ‘3’ print “Fizz” instead of the number and for the multiples of ‘5’ print “Buzz”. If the number given is a multiple of both 3 and 5, the output should be \"FizzBuzz\".\n"
   ]
  },
  {
   "cell_type": "code",
   "execution_count": null,
   "metadata": {},
   "outputs": [],
   "source": [
    "def jizz():\n",
    "    n = int(input('enter a number between 1 to 100'))\n",
    "    for i in range(1,n+1):\n",
    "    \n",
    "        if(i%3==0 and i%5==0):\n",
    "            print(\"fizzbuzz\")\n",
    "        elif(i%3 == 0):\n",
    "            print(\"fizz\")\n",
    "        elif(i%5 == 0):\n",
    "            print(\"buzz\")\n",
    "        else:\n",
    "            print(i)\n",
    "\n",
    "jizz()"
   ]
  },
  {
   "attachments": {},
   "cell_type": "markdown",
   "metadata": {},
   "source": [
    "### Create a function that takes a string and returns the sum of vowels, where some vowels are considered numbers.\n",
    "43100\n"
   ]
  },
  {
   "cell_type": "code",
   "execution_count": null,
   "metadata": {},
   "outputs": [],
   "source": [
    "def con():\n",
    "    n = input(\"enter a string\")\n",
    "    sum = 0\n",
    "    for i in n:\n",
    "        if(i == \"a\"):\n",
    "            sum +=4\n",
    "        elif(i == \"e\"):\n",
    "            sum +=3\n",
    "        elif(i == \"i\"):\n",
    "            sum +=1\n",
    "        elif(i == \"o\" and i == \"u\"):\n",
    "            sum +=0\n",
    "    ans = print(\"the sum of vowels in string is\",sum)\n",
    "    return ans\n",
    "con()"
   ]
  },
  {
   "attachments": {},
   "cell_type": "markdown",
   "metadata": {},
   "source": [
    "### A number is said to be Harshad if it's exactly divisible by the sum of its digits. Write a program that determines whether a number is a Harshad or not.\n"
   ]
  },
  {
   "cell_type": "code",
   "execution_count": null,
   "metadata": {},
   "outputs": [],
   "source": [
    "def sac():\n",
    "    n = int(input(\"enter the number\"))\n",
    "    a = 0\n",
    "    for i in str(n):\n",
    "\n",
    "        a = int(i)+a\n",
    "    if(n%a==0):\n",
    "        print(\"the number is a harshad number\")\n",
    "    else:\n",
    "        print(\"the number is not a harshad number\")\n",
    "\n",
    "sac()"
   ]
  },
  {
   "attachments": {},
   "cell_type": "markdown",
   "metadata": {},
   "source": [
    "### Write a program that takes two parameters and, if both parameters are strings, add them as if they were integers or if the two parameters are integers, concatenate them. If the two parameters are different data types, return None. All parameters will either be strings or integers.\n"
   ]
  },
  {
   "cell_type": "code",
   "execution_count": null,
   "metadata": {},
   "outputs": [],
   "source": [
    "def dead():\n",
    "    # a = input(\"enter a number or a string\")\n",
    "    # b = input(\"enter a number or a string\")\n",
    "    a = \"17\"\n",
    "    b = \"19\"\n",
    "    print(type(a))\n",
    "    print(type(b))\n",
    "    \n",
    "    if(type(a) == str and type(b)== str):\n",
    "        ans = int(a)+int(b)\n",
    "        ans = str(ans)\n",
    "        print(ans)\n",
    "dead()"
   ]
  },
  {
   "cell_type": "code",
   "execution_count": 158,
   "metadata": {},
   "outputs": [
    {
     "data": {
      "text/plain": [
       "'None'"
      ]
     },
     "execution_count": 158,
     "metadata": {},
     "output_type": "execute_result"
    }
   ],
   "source": [
    "def con():\n",
    "    a = input(\"enter 1st number\")   \n",
    "    at = input(\"enter string if number entered should have type string\")\n",
    "    b = input(\"enter 2nd number\")\n",
    "    bt = input(\"enter int if number entered shoulkd have type int\")\n",
    "    if(at == \"int\"):\n",
    "        a= int(a)\n",
    "    if(bt == \"int\"):\n",
    "        b = int(b)\n",
    "    if(type(a) == str and type(b)== str):\n",
    "        ans = int(a)+int(b)\n",
    "        ans = str(ans)\n",
    "        print(ans)\n",
    "\n",
    "    elif((type(a) == int and type(b)== str)or (type(a) == str and type(b)== int)):\n",
    "        return \"None\"\n",
    "    if(type(a) == int and type(b)== int):\n",
    "        ans = str(a)+str(b)\n",
    "        ans = int(ans)\n",
    "        print(ans)\n",
    "    return ans\n",
    "con()\n",
    "            "
   ]
  },
  {
   "attachments": {},
   "cell_type": "markdown",
   "metadata": {},
   "source": [
    "### Write a program to establish if a given integer n is a Sastry number. If the number resulting from the concatenation of an integer n with its successor is a perfect square, then n is a Sastry Number.\n",
    "#####  Example: Input: 183  Output: True \n",
    "#### Concatenation of n and its successor = 183184 \n",
    "#### 183184 is a perfect square (428 ^ 2)\n"
   ]
  },
  {
   "cell_type": "code",
   "execution_count": 9,
   "metadata": {},
   "outputs": [
    {
     "name": "stdout",
     "output_type": "stream",
     "text": [
      "entered number is sastry\n"
     ]
    }
   ],
   "source": [
    "def sas():\n",
    "    n = int(input(\"enetr a number\"))\n",
    "    s = str(n)+ str(n+1)\n",
    "    sqr = pow(int(s),0.5)\n",
    "    sqr = format(sqr,\".1f\")\n",
    "    l = sqr.split('.')\n",
    "    if(l[1]!= \"0\"):\n",
    "        print(\"entered number {}is not sastry\".format(n))\n",
    "    else:\n",
    "        print(\"entered number is sastry\")\n",
    "sas()"
   ]
  },
  {
   "attachments": {},
   "cell_type": "markdown",
   "metadata": {},
   "source": [
    "n = int(input(\"enetr a number\"))\n",
    "s = str(n)+ str(n+1)\n",
    "r = pow(int(s),0.5)\n",
    "r = format(r,\".1f\")\n",
    "a = str(r)\n",
    "spi = a.split('.')\n",
    "spi\n",
    "# spi[1]"
   ]
  },
  {
   "attachments": {},
   "cell_type": "markdown",
   "metadata": {},
   "source": [
    "### In mathematics, the harmonic series is the divergent infinite series:\n",
    "#### Write a program that, given a precision parameter n, returns the value of the partial sum of the harmonic series up to n terms.\n",
    "\n"
   ]
  },
  {
   "cell_type": "code",
   "execution_count": 11,
   "metadata": {},
   "outputs": [
    {
     "name": "stdout",
     "output_type": "stream",
     "text": [
      "5.187377517639621\n"
     ]
    }
   ],
   "source": [
    "def par():\n",
    "    n = int(input(\"enter the number\"))\n",
    "    s = 0\n",
    "    for i in range(1,n+1):\n",
    "        s = 1/i + s\n",
    "    print(s)\n",
    "par()\n"
   ]
  },
  {
   "attachments": {},
   "cell_type": "markdown",
   "metadata": {},
   "source": [
    "### Write a program that determines whether a number is Oddish or Evenish. A number is Oddish if the sum of all of its digits is odd, and a number is Evenish if the sum of all of its digits is even. If a number is Oddish, return \"Oddish\". Otherwise, return \"Evenish\".\n"
   ]
  },
  {
   "cell_type": "code",
   "execution_count": 21,
   "metadata": {},
   "outputs": [
    {
     "name": "stdout",
     "output_type": "stream",
     "text": [
      "10\n",
      "entered number is evenish 10\n"
     ]
    }
   ],
   "source": [
    "def dish():\n",
    "    n = input(\"enter a number\")\n",
    "    s = 0\n",
    "    for i in n:\n",
    "        s = int(i)+s\n",
    "    print(s)\n",
    "    if(s%2==0):\n",
    "        print(\"entered number is evenish\",s)\n",
    "    else :\n",
    "        print(\"entered number is oddish\",s)\n",
    "dish()"
   ]
  },
  {
   "attachments": {},
   "cell_type": "markdown",
   "metadata": {},
   "source": [
    "### Write a program that takes a string as input and filters out the unique characters in the string. Display the filtered characters as the output.\n",
    "\n",
    "\n"
   ]
  },
  {
   "cell_type": "code",
   "execution_count": 12,
   "metadata": {},
   "outputs": [
    {
     "data": {
      "text/plain": [
       "2"
      ]
     },
     "execution_count": 12,
     "metadata": {},
     "output_type": "execute_result"
    }
   ],
   "source": [
    "f = 'sunny'\n",
    "f = tuple(f)\n",
    "f.count('n')"
   ]
  },
  {
   "attachments": {},
   "cell_type": "markdown",
   "metadata": {},
   "source": [
    "### Write a program that takes a 2D grid of characters and a target word as input. Determine if the target word exists in the grid horizontally, vertically, or diagonally. Display whether the word is found or not as the output"
   ]
  },
  {
   "cell_type": "code",
   "execution_count": 15,
   "metadata": {},
   "outputs": [
    {
     "data": {
      "text/plain": [
       "array([['c', 'a', 't'],\n",
       "       ['b', 'a', 't'],\n",
       "       ['d', 'a', 't']], dtype='<U1')"
      ]
     },
     "execution_count": 15,
     "metadata": {},
     "output_type": "execute_result"
    }
   ],
   "source": [
    "import numpy as np\n",
    "n = 'cat'\n",
    "# n = list(n)\n",
    "a = np.array([[\"c\",\"a\",\"t\"],\n",
    "     [\"b\",\"a\",\"t\"],\n",
    "     [\"d\",\"a\",\"t\"]])\n",
    "\n",
    "\n"
   ]
  },
  {
   "cell_type": "code",
   "execution_count": null,
   "metadata": {},
   "outputs": [],
   "source": []
  }
 ],
 "metadata": {
  "kernelspec": {
   "display_name": "Python 3",
   "language": "python",
   "name": "python3"
  },
  "language_info": {
   "codemirror_mode": {
    "name": "ipython",
    "version": 3
   },
   "file_extension": ".py",
   "mimetype": "text/x-python",
   "name": "python",
   "nbconvert_exporter": "python",
   "pygments_lexer": "ipython3",
   "version": "3.11.4"
  },
  "orig_nbformat": 4
 },
 "nbformat": 4,
 "nbformat_minor": 2
}
