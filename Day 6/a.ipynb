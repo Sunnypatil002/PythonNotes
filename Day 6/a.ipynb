{
 "cells": [
  {
   "attachments": {},
   "cell_type": "markdown",
   "metadata": {},
   "source": [
    "### Write a program that takes an integer as input from the user. Create a custom exception called \"EvenNumberException\" that is raised when the input is an even number. Handle this exception by displaying an error message\n"
   ]
  },
  {
   "cell_type": "code",
   "execution_count": null,
   "metadata": {},
   "outputs": [],
   "source": [
    "# n = int(input(\"enter the number\"))\n",
    "# try :\n",
    "#     if(n%2 == 0):\n",
    "#         print(\"entered number is even\")\n",
    "# except:\n",
    "#     print('an error occurred')\n",
    "# # else:\n",
    "# #     print('entered number {} is not even'.format(n))\n",
    "\n",
    "\n",
    "class CustomException(Exception):\n",
    "    pass\n",
    "\n",
    "def custom(data):\n",
    "    if(n%2==0):\n",
    "        raise CustomException(\"is an even number\")\n",
    "\n",
    "try:\n",
    "    data = 4\n",
    "    custom(data)\n",
    "except CustomException as e:\n",
    "    print(e) \n"
   ]
  },
  {
   "attachments": {},
   "cell_type": "markdown",
   "metadata": {},
   "source": [
    "### Write a program that asks the user to enter their age. Use an assert statement to raise an AssertionError if the age entered is negative. Handle this exception by displaying an error message\n"
   ]
  },
  {
   "cell_type": "code",
   "execution_count": 48,
   "metadata": {},
   "outputs": [
    {
     "name": "stdout",
     "output_type": "stream",
     "text": [
      "the age is 4\n"
     ]
    }
   ],
   "source": [
    "\n",
    "n = int(input(\"enter the age\"))\n",
    "\n",
    "assert(n>0), \"an error occurred\"\n",
    "print(\"the age is {}\".format(n))\n"
   ]
  },
  {
   "attachments": {},
   "cell_type": "markdown",
   "metadata": {},
   "source": [
    "### Write a program that prompts the user to enter the name of a file. Handle the FileNotFoundError exception by displaying an error message when the specified file is not found. If the file is found, read its contents and display them\n"
   ]
  },
  {
   "cell_type": "code",
   "execution_count": 8,
   "metadata": {},
   "outputs": [
    {
     "name": "stdout",
     "output_type": "stream",
     "text": [
      "[Errno 2] No such file or directory: 'asdffd'\n"
     ]
    }
   ],
   "source": [
    "n = input('enter name of the file')\n",
    "try:\n",
    "    f = open(n, \"r\")\n",
    "    print(f.read())\n",
    "except FileNotFoundError as f:\n",
    "    print(f)\n"
   ]
  },
  {
   "attachments": {},
   "cell_type": "markdown",
   "metadata": {},
   "source": [
    "### Write a function in python to read the content from a text file \"poem.txt\" line by line and display the same on screen\n"
   ]
  },
  {
   "cell_type": "code",
   "execution_count": 47,
   "metadata": {},
   "outputs": [
    {
     "name": "stdout",
     "output_type": "stream",
     "text": [
      "a monster was born and then he died\n",
      "then he was reborn and he died again\n"
     ]
    }
   ],
   "source": [
    "s = input(\"enter the name of file\")\n",
    "f = open(s,'r')\n",
    "file = f.readlines()\n",
    "for i in file:\n",
    "    lines = i.split()\n",
    "    print(' '.join(lines))\n",
    "    "
   ]
  },
  {
   "attachments": {},
   "cell_type": "markdown",
   "metadata": {},
   "source": [
    "### Write a function in python to count the number of lines from a text file \"story.txt\" which is not starting with an alphabet \"T“\n"
   ]
  },
  {
   "attachments": {},
   "cell_type": "markdown",
   "metadata": {},
   "source": [
    "### Write a function in Python to count and display the total number of words in a text file\n"
   ]
  },
  {
   "cell_type": "code",
   "execution_count": 37,
   "metadata": {},
   "outputs": [
    {
     "name": "stdout",
     "output_type": "stream",
     "text": [
      "16\n",
      "['a', 'monster', 'was', 'born', 'and', 'then', 'he', 'died', 'then', 'he', 'was', 'reborn', 'and', 'he', 'died', 'again']\n"
     ]
    }
   ],
   "source": [
    "s = input(\"enter the file name\")\n",
    "f = open(s,'r')\n",
    "file = f.read()\n",
    "words = file.split(' ')\n",
    "count  = len(words)\n",
    "print(count)\n",
    "\n",
    "\n",
    "print(words)"
   ]
  },
  {
   "attachments": {},
   "cell_type": "markdown",
   "metadata": {},
   "source": [
    "### Write a function in Python to read lines from a text file \"notes.txt\". Your function should find and display the occurrence of the word \"the“\n"
   ]
  },
  {
   "cell_type": "code",
   "execution_count": 32,
   "metadata": {},
   "outputs": [
    {
     "name": "stdout",
     "output_type": "stream",
     "text": [
      "[['a', 'monster', 'was', 'born', 'and', 'then', 'he', 'died'], ['then', 'he', 'was', 'reborn', 'and', 'he', 'died', 'again']]\n",
      "2\n"
     ]
    }
   ],
   "source": [
    "s = input('enter the file name')\n",
    "f = open(s,'r')\n",
    "l = []\n",
    "file = f.readlines()\n",
    "for line in file:\n",
    "    sentence = line.split()\n",
    "    l.append(sentence)\n",
    "count = 0\n",
    "print(l)\n",
    "for i in l:\n",
    "    for j in i:\n",
    "        if(j == 'and'):\n",
    "            count+=1\n",
    "print(count)\n",
    "        \n"
   ]
  },
  {
   "attachments": {},
   "cell_type": "markdown",
   "metadata": {},
   "source": [
    "### Write a function display_words() in python to read lines from a text file \"story.txt\", and display those words, which are less than 4 characters\n"
   ]
  },
  {
   "cell_type": "code",
   "execution_count": 22,
   "metadata": {},
   "outputs": [
    {
     "name": "stdout",
     "output_type": "stream",
     "text": [
      "['break', 'a', 'brick', 'to', 'breach', 'the', 'wall\\n']\n",
      "a\n",
      "to\n",
      "the\n"
     ]
    }
   ],
   "source": [
    "s = input(\"enter the name of story file\")\n",
    "f = open(s,'r')\n",
    "file = (f.read())\n",
    "words= file.split(' ')\n",
    "l = []\n",
    "\n",
    "for i in words:\n",
    "    l.append(i)\n",
    "print(l)\n",
    "for i in l:\n",
    "    if(len(i)<4):\n",
    "        print(i)\n",
    "     \n"
   ]
  },
  {
   "attachments": {},
   "cell_type": "markdown",
   "metadata": {},
   "source": [
    "### Aditi has used a text editing software to type some text. After saving the article as WORDS.TXT, she realised that she has wrongly typed alphabet J in place of alphabet I everywhere in the article.\n",
    "1. Write a function definition for JTOI() in Python that would display the corrected version of entire content of the file WORDS.TXT with all the alphabets \"J\" to be displayed as an alphabet \"I\" on screen.\n",
    "2. Note:  Assuming that WORD.TXT does not contain any J alphabet otherwise.\n",
    "Example:\u000bIf Aditi has stored the following content in the file WORDS.TXT:\u000bWELL, THJS JS A WORD BY JTSELF. YOU COULD STRETCH THJS TO BE A SENTENCE\u000bThe function JTOI() should display the following content:\u000bWELL, THIS IS A WORD BY ITSELF. YOU COULD STRETCH THIS TO BE A SENTENCE\n"
   ]
  },
  {
   "cell_type": "code",
   "execution_count": 90,
   "metadata": {},
   "outputs": [
    {
     "name": "stdout",
     "output_type": "stream",
     "text": [
      "['WELL,', 'THJS', 'JS', 'A', 'WORD', 'BY', 'JTSELF.', 'YOU', 'COULD', 'STRETCH', 'THJS', 'TO', 'BE', 'A', 'SENTENCE']\n",
      "['WELL,', 'THIS', 'IS', 'A', 'WORD', 'BY', 'ITSELF.', 'YOU', 'COULD', 'STRETCH', 'THIS', 'TO', 'BE', 'A', 'SENTENCE']\n"
     ]
    }
   ],
   "source": [
    "s = input(\"enter the name of the file\")\n",
    "f = open(s,'r')\n",
    "file = f.read()\n",
    "words = file.split()\n",
    "print(words)\n",
    "l = []\n",
    "og_letter = 'J'\n",
    "new_letter = 'I'\n",
    "for i in range(len(words)):\n",
    "    words[i]=words[i].replace(og_letter,new_letter)\n",
    "print(words)\n",
    "modified_content = file.replace(file,' '.join(words))\n",
    "f.close()\n",
    "mf = open(s,'w')\n",
    "a = mf.write(modified_content)\n",
    "mf.close()\n",
    "        "
   ]
  },
  {
   "cell_type": "code",
   "execution_count": 76,
   "metadata": {},
   "outputs": [
    {
     "name": "stdout",
     "output_type": "stream",
     "text": [
      "THsS\n",
      "in\n",
      "['THJS', 'in']\n"
     ]
    }
   ],
   "source": [
    "a = ['THJS','in']\n",
    "\n"
   ]
  },
  {
   "attachments": {},
   "cell_type": "markdown",
   "metadata": {},
   "source": [
    "### You're going to write an interactive calculator! User input is assumed to be a formula that consist of a number, an operator (at least + and -), and another number, separated by white space (e.g. 1 + 1). Split user input using str.split(), and check whether the resulting list is valid:\n",
    "1. If the input does not consist of 3 elements, raise a FormulaError, which is a custom Exception.\n",
    "2. Try to convert the first and third input to a float (like so: float_value = float(str_value)). Catch any ValueError that occurs, and instead raise a FormulaError\n",
    "3. If the second input is not '+' or '-', again raise a FormulaError\n",
    "4. If the input is valid, perform the calculation and print out the result. The user is then prompted to provide new input, and so on, until the user enters quit.\n"
   ]
  },
  {
   "cell_type": "code",
   "execution_count": null,
   "metadata": {},
   "outputs": [],
   "source": [
    "class FormulaError(Exception):\n",
    "    pass\n",
    "def checkValidEquation(s):\n",
    "    if(len(s)!=3):\n",
    "        raise FormulaError(\"Error : inputs does not contain 3 elements\")\n",
    "    elif(type(float(s[0]))!=float or type(float(s[2]))!=float ):\n",
    "        raise FormulaError(\"Error : input does not converted in float\")\n",
    "    elif(s[1]!='+' and s[1]!='-'):\n",
    "        raise FormulaError(\"Error : input does not content operator \")\n",
    "\n",
    "\n",
    "\n",
    "    \n",
    "try:\n",
    "    s=input(\"enter the formula \")\n",
    "    checkValidEquation(s)\n",
    "    if(s[1]=='+'):\n",
    "        print(float(s[0])+float(s[2]))\n",
    "    elif(s[1]=='-'):\n",
    "        print(float(s[0])-float(s[2]))  \n",
    "except FormulaError as e:\n",
    "    print(e)"
   ]
  },
  {
   "cell_type": "code",
   "execution_count": null,
   "metadata": {},
   "outputs": [],
   "source": []
  },
  {
   "attachments": {},
   "cell_type": "markdown",
   "metadata": {},
   "source": []
  },
  {
   "cell_type": "code",
   "execution_count": 111,
   "metadata": {},
   "outputs": [
    {
     "name": "stdout",
     "output_type": "stream",
     "text": [
      " 6\n",
      "None\n"
     ]
    },
    {
     "ename": "AttributeError",
     "evalue": "module 'mymodule' has no attribute 'sub'",
     "output_type": "error",
     "traceback": [
      "\u001b[1;31m---------------------------------------------------------------------------\u001b[0m",
      "\u001b[1;31mAttributeError\u001b[0m                            Traceback (most recent call last)",
      "Cell \u001b[1;32mIn[111], line 5\u001b[0m\n\u001b[0;32m      3\u001b[0m a \u001b[39m=\u001b[39m m\u001b[39m.\u001b[39madd(\u001b[39m2\u001b[39m,\u001b[39m4\u001b[39m)\n\u001b[0;32m      4\u001b[0m \u001b[39mprint\u001b[39m(a)\n\u001b[1;32m----> 5\u001b[0m b \u001b[39m=\u001b[39m m\u001b[39m.\u001b[39;49msub(\u001b[39m4\u001b[39m,\u001b[39m2\u001b[39m)\n\u001b[0;32m      6\u001b[0m \u001b[39mprint\u001b[39m(b)\n\u001b[0;32m      8\u001b[0m c \u001b[39m=\u001b[39m m\u001b[39m.\u001b[39mdiv(\u001b[39m2\u001b[39m,\u001b[39m4\u001b[39m)\n",
      "\u001b[1;31mAttributeError\u001b[0m: module 'mymodule' has no attribute 'sub'"
     ]
    }
   ],
   "source": [
    "import mymodule as m\n",
    "\n",
    "a = m.add(2,4)\n",
    "print(a)\n",
    "'\n",
    "b = m.sub(4,2)\n",
    "print(b)\n",
    "\n",
    "c = m.div(2,4)\n",
    "print(c)\n",
    "d = m.multi(2,4)\n",
    "\n",
    "print(d)"
   ]
  },
  {
   "attachments": {},
   "cell_type": "markdown",
   "metadata": {},
   "source": [
    "### Create a package named shape that contains two modules: rectangle and circle.\n",
    "1. In the rectangle module, define a function area(width, height) that calculates and returns the area of a rectangle given its width and height.\n",
    "2. In the circle module, define a function area(radius) that calculates and returns the area of a circle given its radius.\n",
    "Write a separate Python program that imports both modules from the shape package and uses their respective functions to calculate the areas of a rectangle and a circle with user-provided dimensions.\n"
   ]
  },
  {
   "cell_type": "code",
   "execution_count": 109,
   "metadata": {},
   "outputs": [
    {
     "name": "stdout",
     "output_type": "stream",
     "text": [
      "6\n",
      "50.24\n"
     ]
    }
   ],
   "source": [
    "import shape as sh\n",
    "\n",
    "re = sh.rect(2,3)\n",
    "print(re)\n",
    "ci = sh.circle(4)\n",
    "print(ci)"
   ]
  },
  {
   "attachments": {},
   "cell_type": "markdown",
   "metadata": {},
   "source": [
    "### Write a Python program that utilizes the built-in datetime module to perform the following tasks:\n",
    "1. Get the current date and time and display it on the console.\n",
    "2. Create a datetime object representing your birthday.\n",
    "3. Calculate the difference between the current date and your birthday, and display the result in years, months, and days.\n"
   ]
  },
  {
   "cell_type": "code",
   "execution_count": 133,
   "metadata": {},
   "outputs": [
    {
     "name": "stdout",
     "output_type": "stream",
     "text": [
      "Difference between current date and your birthday:\n",
      "Years: 0\n",
      "Months: 4\n",
      "Days: 2\n",
      "no. of days remaining for ur birthday is 122 days, 0:00:00\n"
     ]
    }
   ],
   "source": [
    "import datetime as d\n",
    "s =d.datetime.now()\n",
    "b =d.date(2023,10,27) \n",
    "present = d.date.today()\n",
    "diff = b-present\n",
    "years = diff.days // 365\n",
    "remaining_days = diff.days % 365\n",
    "months = remaining_days // 30\n",
    "days = remaining_days % 30\n",
    "print(\"Difference between current date and your birthday:\")\n",
    "print(\"Years:\", years)\n",
    "print(\"Months:\", months)\n",
    "print(\"Days:\", days)\n"
   ]
  },
  {
   "attachments": {},
   "cell_type": "markdown",
   "metadata": {},
   "source": [
    "### Create a Python module named words that contains the following functions:\n",
    "1. first_word: Returns the first word of a string\n",
    "2. last_word: Returns the last word of a string\n",
    "3. number_of_words: Returns the length of the string\n",
    "4. Write a separate Python program that imports the word module and uses its functions to perform string operations on user-provided strings. Include a main function in the module that includes test cases, which should not be executed if the module is imported into another program.\n"
   ]
  },
  {
   "cell_type": "code",
   "execution_count": 136,
   "metadata": {},
   "outputs": [
    {
     "data": {
      "text/plain": [
       "'u'"
      ]
     },
     "execution_count": 136,
     "metadata": {},
     "output_type": "execute_result"
    }
   ],
   "source": [
    "s = 'l m d t u '\n",
    "l = s.split()\n",
    "l[-1]"
   ]
  },
  {
   "cell_type": "code",
   "execution_count": 158,
   "metadata": {},
   "outputs": [
    {
     "data": {
      "text/plain": [
       "'char not present in given string'"
      ]
     },
     "execution_count": 158,
     "metadata": {},
     "output_type": "execute_result"
    }
   ],
   "source": [
    "# s = 'sunny'\n",
    "# def reverse(s):\n",
    "#     s = list(s)\n",
    "#     s = s[::-1]\n",
    "#     print(s)\n",
    "# reverse(s)\n",
    "\n",
    "def occ():\n",
    "    s = 'sunny'\n",
    "    n = input('enter the chr u want occurance of:')\n",
    "    if(n not in s):\n",
    "        return 'char not present in given string'\n",
    "    count = 0\n",
    "    for i in range(0,len(s)):\n",
    "        # print(s[i])\n",
    "        if(s[i] == n):\n",
    "            count+=1\n",
    "        \n",
    "    return n,count\n",
    "occ()"
   ]
  },
  {
   "attachments": {},
   "cell_type": "markdown",
   "metadata": {},
   "source": [
    "### The Caesar cipher is a simple encryption technique that was used by Julius Caesar to send secret messages to his allies. It works by shifting the letters in the plaintext message by a certain number of positions, known as the “shift” or “key”. For example with a shift of 1, A would be replaced by B, B would become C, and so on. \n",
    "1. Create a module called \"encryption\" that provides functions for encrypting and decrypting messages using this technique. Include the following functions:\n",
    "1. encrypt_message: Message and key as inputs\n",
    "2. decrypt_message: Message and key as inputs \n",
    "3. Key_generator: Generates a key for encrypting and decrypting"
   ]
  },
  {
   "cell_type": "code",
   "execution_count": null,
   "metadata": {},
   "outputs": [],
   "source": [
    "s = 'abc'"
   ]
  }
 ],
 "metadata": {
  "kernelspec": {
   "display_name": "Python 3",
   "language": "python",
   "name": "python3"
  },
  "language_info": {
   "codemirror_mode": {
    "name": "ipython",
    "version": 3
   },
   "file_extension": ".py",
   "mimetype": "text/x-python",
   "name": "python",
   "nbconvert_exporter": "python",
   "pygments_lexer": "ipython3",
   "version": "3.11.4"
  },
  "orig_nbformat": 4
 },
 "nbformat": 4,
 "nbformat_minor": 2
}
