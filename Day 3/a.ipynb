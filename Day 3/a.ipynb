{
 "cells": [
  {
   "cell_type": "code",
   "execution_count": 6,
   "metadata": {},
   "outputs": [
    {
     "name": "stdout",
     "output_type": "stream",
     "text": [
      "college\n",
      "in\n",
      "umbai\n"
     ]
    }
   ],
   "source": [
    "import re\n",
    "p = re.compile('[a-z]+')\n",
    "m = p.finditer(\"A college in Mumbai\")\n",
    "for i in m:\n",
    "    print(i.group())\n",
    "a = "
   ]
  },
  {
   "attachments": {},
   "cell_type": "markdown",
   "metadata": {},
   "source": [
    "### Create a function that takes a number a and finds the missing exponent x so that a when raised to the power of x is equal to b.\n"
   ]
  },
  {
   "cell_type": "code",
   "execution_count": 9,
   "metadata": {},
   "outputs": [
    {
     "data": {
      "text/plain": [
       "3"
      ]
     },
     "execution_count": 9,
     "metadata": {},
     "output_type": "execute_result"
    }
   ],
   "source": [
    "def mis():\n",
    "    a = int(input(\"enter a number\"))\n",
    "    b = int(input(\"enter a number\"))\n",
    "    x = 0 \n",
    "    while(a!= 0):\n",
    "        if(pow(a,x) == b):\n",
    "            return x\n",
    "        else:\n",
    "            x+=1\n",
    "mis()"
   ]
  },
  {
   "attachments": {},
   "cell_type": "markdown",
   "metadata": {},
   "source": [
    "### The vertical bar | is the equivalent to \"or\" in RegEx. The regular expression x|y matches either \"x\" or \"y\". Write the regular expression that will match all red flag and blue flag in a string. You must use | in your expression. Flags can come in any order."
   ]
  },
  {
   "cell_type": "code",
   "execution_count": 19,
   "metadata": {},
   "outputs": [
    {
     "name": "stdout",
     "output_type": "stream",
     "text": [
      "red flag blue flag yellow flag\n"
     ]
    },
    {
     "ename": "TypeError",
     "evalue": "unsupported operand type(s) for |: 'str' and 'str'",
     "output_type": "error",
     "traceback": [
      "\u001b[1;31m---------------------------------------------------------------------------\u001b[0m",
      "\u001b[1;31mTypeError\u001b[0m                                 Traceback (most recent call last)",
      "Cell \u001b[1;32mIn[19], line 9\u001b[0m\n\u001b[0;32m      5\u001b[0m     s \u001b[39m=\u001b[39m re\u001b[39m.\u001b[39mcompile(\u001b[39m'\u001b[39m\u001b[39mred flag\u001b[39m\u001b[39m'\u001b[39m\u001b[39m|\u001b[39m\u001b[39m'\u001b[39m\u001b[39mblue flag\u001b[39m\u001b[39m'\u001b[39m)\n\u001b[0;32m      6\u001b[0m     \u001b[39mprint\u001b[39m(s)\n\u001b[1;32m----> 9\u001b[0m filo()\n",
      "Cell \u001b[1;32mIn[19], line 5\u001b[0m, in \u001b[0;36mfilo\u001b[1;34m()\u001b[0m\n\u001b[0;32m      3\u001b[0m a \u001b[39m=\u001b[39m \u001b[39minput\u001b[39m(\u001b[39m\"\u001b[39m\u001b[39menter number of elements\u001b[39m\u001b[39m\"\u001b[39m)\n\u001b[0;32m      4\u001b[0m \u001b[39mprint\u001b[39m(a)\n\u001b[1;32m----> 5\u001b[0m s \u001b[39m=\u001b[39m re\u001b[39m.\u001b[39mcompile(\u001b[39m'\u001b[39;49m\u001b[39mred flag\u001b[39;49m\u001b[39m'\u001b[39;49m\u001b[39m|\u001b[39;49m\u001b[39m'\u001b[39;49m\u001b[39mblue flag\u001b[39;49m\u001b[39m'\u001b[39;49m)\n\u001b[0;32m      6\u001b[0m \u001b[39mprint\u001b[39m(s)\n",
      "\u001b[1;31mTypeError\u001b[0m: unsupported operand type(s) for |: 'str' and 'str'"
     ]
    }
   ],
   "source": [
    "import re\n",
    "def filo():\n",
    "    a = input(\"enter number of elements\")\n",
    "    print(a)\n",
    "    s = re.compile(a)\n",
    "    print(s)\n",
    "\n",
    "\n",
    "filo()"
   ]
  },
  {
   "cell_type": "code",
   "execution_count": 24,
   "metadata": {},
   "outputs": [
    {
     "name": "stdout",
     "output_type": "stream",
     "text": [
      "<re.Match object; span=(5, 7), match='ai'>\n"
     ]
    }
   ],
   "source": [
    "#Do a search that will return a Match Object\n",
    "import re\n",
    "\n",
    "txt = \"The rain in Spain\"\n",
    "x = re.search(\"ai\" or \"r\", txt)\n",
    "print(x) #this will print an object"
   ]
  },
  {
   "attachments": {},
   "cell_type": "markdown",
   "metadata": {},
   "source": [
    "### Write a function that takes a list of numbers and returns a list with two elements:\n",
    "1.  The first element should be the sum of all even numbers in the list.\n",
    "2.  The second element should be the sum of all odd numbers in the list.\n"
   ]
  },
  {
   "cell_type": "code",
   "execution_count": 32,
   "metadata": {},
   "outputs": [
    {
     "name": "stdout",
     "output_type": "stream",
     "text": [
      "['1', '2', '3', '4']\n",
      "odd element:4 and even element:6\n"
     ]
    }
   ],
   "source": [
    "def den():\n",
    "    a = input(\"enter a list of numbers seperated by space\")\n",
    "    a = a.split(' ')    \n",
    "    print(a)\n",
    "    even = 0\n",
    "    odd = 0\n",
    "    for i in a:\n",
    "        i =int(i)\n",
    "        if(i%2 == 0):\n",
    "            even = i+even\n",
    "        else:\n",
    "            odd = i+odd\n",
    "    print(\"odd element:{} and even element:{}\".format(odd,even))\n",
    "den()\n"
   ]
  },
  {
   "attachments": {},
   "cell_type": "markdown",
   "metadata": {},
   "source": [
    "### Create a function that takes two numbers as arguments (num, length) and returns a list of multiples of num until the list length reaches length.\n"
   ]
  },
  {
   "cell_type": "code",
   "execution_count": 37,
   "metadata": {},
   "outputs": [
    {
     "data": {
      "text/plain": [
       "[2, 4, 6, 8, 10, 12, 14, 16, 18, 20, 22, 24, 26, 28, 30]"
      ]
     },
     "execution_count": 37,
     "metadata": {},
     "output_type": "execute_result"
    }
   ],
   "source": [
    "num = int(input(\"enter the number\"))\n",
    "length  = int(input(\"enter the length\")) \n",
    "\n",
    "def dev(a,b):\n",
    "    l = []\n",
    "    for i in range(1,b+1):\n",
    "        multiple = i*a\n",
    "        l.append(multiple)\n",
    "    return l\n",
    "dev(num,length)"
   ]
  },
  {
   "attachments": {},
   "cell_type": "markdown",
   "metadata": {},
   "source": [
    "### The caret ^, when found at the start of a character set, is the equivalent to \"not\" in RegEx. The regular expression [^a-c] matches any characters except \"a\", \"b\" and \"c\". Write the regular expression that matches any characters except letters, digits and spaces. You must use a negated character set in your expression.\n"
   ]
  },
  {
   "cell_type": "code",
   "execution_count": null,
   "metadata": {},
   "outputs": [],
   "source": []
  },
  {
   "attachments": {},
   "cell_type": "markdown",
   "metadata": {},
   "source": [
    "### Create a function that takes a list containing nested lists as an argument. Each sublist has 2 elements. The first element is the numerator and the second element is the denominator. Return the sum of the fractions rounded to the nearest whole number.\n"
   ]
  },
  {
   "cell_type": "code",
   "execution_count": 51,
   "metadata": {},
   "outputs": [
    {
     "name": "stdout",
     "output_type": "stream",
     "text": [
      "[[12, 5], [30, 5], [60, 12]]\n",
      "13\n"
     ]
    }
   ],
   "source": [
    "l = [[12,5],[30,5],[60,12]]\n",
    "print(l)\n",
    "\n",
    "def loc(a):\n",
    "    answer = 0\n",
    "    final = 0\n",
    "    for i in a:\n",
    "        n = i[0]\n",
    "        d = i[1]\n",
    "        sol = format(n/d,'.1f')\n",
    "        onlyp= sol.split('.')\n",
    "        # print(onlyp)\n",
    "        if(int(onlyp[1])>5):\n",
    "            answer = int(onlyp[0])+1\n",
    "        else:\n",
    "            answer = int(onlyp[0])\n",
    "        final= answer + final\n",
    "        # print(final)\n",
    "    print(final)\n",
    "loc(l)"
   ]
  },
  {
   "cell_type": "code",
   "execution_count": null,
   "metadata": {},
   "outputs": [],
   "source": []
  }
 ],
 "metadata": {
  "kernelspec": {
   "display_name": "Python 3",
   "language": "python",
   "name": "python3"
  },
  "language_info": {
   "codemirror_mode": {
    "name": "ipython",
    "version": 3
   },
   "file_extension": ".py",
   "mimetype": "text/x-python",
   "name": "python",
   "nbconvert_exporter": "python",
   "pygments_lexer": "ipython3",
   "version": "3.11.4"
  },
  "orig_nbformat": 4
 },
 "nbformat": 4,
 "nbformat_minor": 2
}
