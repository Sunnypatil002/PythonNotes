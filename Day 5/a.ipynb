{
 "cells": [
  {
   "cell_type": "code",
   "execution_count": 2,
   "metadata": {},
   "outputs": [
    {
     "name": "stdout",
     "output_type": "stream",
     "text": [
      "Creating instance of Calculator\n"
     ]
    },
    {
     "data": {
      "text/plain": [
       "5"
      ]
     },
     "execution_count": 2,
     "metadata": {},
     "output_type": "execute_result"
    }
   ],
   "source": [
    "def debug_decorator(cls):\n",
    "    class DebugClass(cls):\n",
    "        def __init__(self, *args, **kwargs):\n",
    "            print(f\"Creating instance of {cls.__name__}\")\n",
    "            super().__init__(*args, **kwargs)\n",
    "\n",
    "        def __call__(self, *args, **kwargs):\n",
    "            print(f\"Calling {cls.__name__} instance\")\n",
    "            return super().__call__(*args, **kwargs)\n",
    "\n",
    "    return DebugClass\n",
    "\n",
    "@debug_decorator\n",
    "class Calculator:\n",
    "    def add(self, a, b):\n",
    "        return a + b\n",
    "\n",
    "calculator = Calculator()  # Output: Creating instance of Calculator\n",
    "calculator.add(2, 3)  # Output: Calling Calculator instance\n",
    "\n"
   ]
  },
  {
   "cell_type": "code",
   "execution_count": 8,
   "metadata": {},
   "outputs": [
    {
     "name": "stdout",
     "output_type": "stream",
     "text": [
      "10\n",
      "in class method\n"
     ]
    }
   ],
   "source": [
    "class ABC:\n",
    "    var = 10\n",
    "    def display(self):\n",
    "        print('in class method')\n",
    "obj=ABC()\n",
    "print(obj.var)\n",
    "obj.display()"
   ]
  },
  {
   "cell_type": "code",
   "execution_count": 52,
   "metadata": {},
   "outputs": [
    {
     "name": "stdout",
     "output_type": "stream",
     "text": [
      "inside class ABC\n",
      "10\n",
      "None\n"
     ]
    }
   ],
   "source": [
    "class ABC:\n",
    "    def __init__(self,__val):\n",
    "        print('inside class ABC')\n",
    "        self.__val = __val\n",
    "    \n",
    "    def display(self,__val):\n",
    "        print(__val) \n",
    "        # print(__val)\n",
    "class BCD(ABC):\n",
    "    def __init__(self,__val,didi):\n",
    "        super().__init__(__val)\n",
    "        print('inside class ABC')\n",
    "        self.didi = didi\n",
    "    \n",
    "\n",
    "obj= ABC(10)\n",
    "\n",
    "print(obj.display(10))\n"
   ]
  },
  {
   "cell_type": "code",
   "execution_count": 60,
   "metadata": {},
   "outputs": [
    {
     "name": "stdout",
     "output_type": "stream",
     "text": [
      "{orewa}{watashi}{khizhuki} khimetandesho\n",
      "{self.orewa}{self.watashi}{self.khizuki} khaimei\n",
      "ze\n",
      "ti\n",
      "ni\n",
      "daijobu\n",
      "None\n",
      "{self.orewa}{self.watashi}{self.khizuki} khaimei\n"
     ]
    }
   ],
   "source": [
    "class Will:\n",
    "    def __init__(self,orewa,watashi,khizhuki):\n",
    "        self.orewa = orewa\n",
    "        self.watashi = watashi\n",
    "        self.khizhuki = khizhuki\n",
    "        print('{orewa}{watashi}{khizhuki} khimetandesho')\n",
    "    def daijobu(self):\n",
    "        print('daijobu')\n",
    "    def __del__(self):\n",
    "        print('{self.orewa}{self.watashi}{self.khizuki} khaimei')\n",
    "dec = Will('ze','ti','ni')\n",
    "print(dec.orewa)\n",
    "print(dec.watashi)\n",
    "print(dec.khizhuki)\n",
    "print(dec.daijobu())\n",
    "del dec\n"
   ]
  },
  {
   "cell_type": "code",
   "execution_count": null,
   "metadata": {},
   "outputs": [],
   "source": []
  }
 ],
 "metadata": {
  "kernelspec": {
   "display_name": "Python 3",
   "language": "python",
   "name": "python3"
  },
  "language_info": {
   "codemirror_mode": {
    "name": "ipython",
    "version": 3
   },
   "file_extension": ".py",
   "mimetype": "text/x-python",
   "name": "python",
   "nbconvert_exporter": "python",
   "pygments_lexer": "ipython3",
   "version": "3.11.4"
  },
  "orig_nbformat": 4
 },
 "nbformat": 4,
 "nbformat_minor": 2
}
