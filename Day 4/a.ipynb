{
 "cells": [
  {
   "attachments": {},
   "cell_type": "markdown",
   "metadata": {},
   "source": [
    "### Create a function that takes a list of numbers between 1 and 10 (excluding one number) and returns the missing number.\n"
   ]
  },
  {
   "cell_type": "code",
   "execution_count": null,
   "metadata": {},
   "outputs": [],
   "source": [
    "def mis():\n",
    "    n  = int(input(\"enter the number from 1 to 10 with 1 missing number\"))\n",
    "    l =[]\n",
    "    for i in range(0,n):\n",
    "        a = int(input())\n",
    "        l.append(a)\n",
    "    l = sorted(l)\n",
    "    print(l)\n",
    "    for i in range(0,9):\n",
    "        if(l[i]!=i+1):\n",
    "            print(i+1)\n",
    "            break\n",
    "mis()\n"
   ]
  },
  {
   "attachments": {},
   "cell_type": "markdown",
   "metadata": {},
   "source": [
    "### Write a function that takes a credit card number and only displays the last four characters. The rest of the card number must be replaced by ************.\n"
   ]
  },
  {
   "cell_type": "code",
   "execution_count": null,
   "metadata": {},
   "outputs": [],
   "source": [
    "def hide():\n",
    "    n = int(input(\"enter ur credit card number\"))\n",
    "\n",
    "    l = []\n",
    "    for i in str(n):\n",
    "        l.append(i)\n",
    "    # print(l)\n",
    "\n",
    "    if(len(l)<16):\n",
    "        print(\"enter a valid credit card number\")\n",
    "    elif(len(l)>16):\n",
    "        print(\"enter a valid credit card number\")\n",
    "\n",
    "    for i in range(0,12):\n",
    "        l[i]='*'\n",
    "    l = ''.join(l)\n",
    "    print(l) \n",
    "        \n",
    "\n",
    "\n",
    "\n",
    "hide()"
   ]
  },
  {
   "attachments": {},
   "cell_type": "markdown",
   "metadata": {},
   "source": [
    "### ATM machines allow 4 or 6 digit PIN codes and PIN codes cannot contain anything but exactly 4 digits or exactly 6 digits. Your task is to create a function that takes a string and returns True if the PIN is valid and False if it's not.\n"
   ]
  },
  {
   "cell_type": "code",
   "execution_count": null,
   "metadata": {},
   "outputs": [],
   "source": [
    "def til():\n",
    "    n = input(\"enter atm pin\")\n",
    "    l = []\n",
    "    for i in str(n):\n",
    "        l.append(i)\n",
    "    ans = ''.join(l)\n",
    "    if(len(l)==4 or len(l) == 6):\n",
    "        print('ur atm pin {} is valid '.format(ans))\n",
    "    else:\n",
    "        print('ur atm pin {} is not valid '.format(ans))\n",
    "        \n",
    "til()"
   ]
  },
  {
   "attachments": {},
   "cell_type": "markdown",
   "metadata": {},
   "source": [
    "### Create a function that squares every digit of a number.\n"
   ]
  },
  {
   "cell_type": "code",
   "execution_count": null,
   "metadata": {},
   "outputs": [],
   "source": [
    "def res():\n",
    "    n = int(input())\n",
    "    l=[]\n",
    "    for i in str(n):\n",
    "        i = int(i)\n",
    "        l.append(str(i*i))\n",
    "    l = ''.join(l)\n",
    "    print('square of digits of entered number is {}'.format(l))\n",
    "\n",
    "res()\n",
    "\n"
   ]
  },
  {
   "cell_type": "code",
   "execution_count": null,
   "metadata": {},
   "outputs": [],
   "source": [
    "def resd():\n",
    "    n = int(input(\"enter the number\"))\n",
    "    print(n)\n",
    "    sum = 0\n",
    "    i = 0\n",
    "    j = 0\n",
    "    while(n!=0):\n",
    "        digit = n%10\n",
    "        sq = pow(digit,2)\n",
    "        sum = sum +sq*pow(10,i+j)\n",
    "        if(sq>9):\n",
    "            j = j+1\n",
    "        i = i+1\n",
    "        n= int(n/10)\n",
    "    print(sum)\n",
    "\n",
    "resd()"
   ]
  },
  {
   "attachments": {},
   "cell_type": "markdown",
   "metadata": {},
   "source": [
    "### Create a function that takes a dictionary of student names and returns a list of student names in alphabetical order.\n"
   ]
  },
  {
   "cell_type": "code",
   "execution_count": null,
   "metadata": {},
   "outputs": [],
   "source": [
    "def dic():\n",
    "    a = {}\n",
    "    n = int(input('enter the numnber of key value pairs'))\n",
    "    for i in range(0,n):\n",
    "        name = input(\"enter name\")\n",
    "        keys = int(input(\"enter key value\"))\n",
    "        a[keys] = name\n",
    "    print(a)\n",
    "    my_Dict = dict(sorted(a.items(), key=lambda x: x[1]))\n",
    "    print(my_Dict)\n",
    "dic()"
   ]
  },
  {
   "attachments": {},
   "cell_type": "markdown",
   "metadata": {},
   "source": [
    "### Write a function that takes a list of numbers and returns a list with two elements:\n",
    "1. The first element should be the sum of all even numbers in the list.\n",
    "2. The second element should be the sum of all odd numbers in the list.\n",
    "\n"
   ]
  },
  {
   "cell_type": "code",
   "execution_count": null,
   "metadata": {},
   "outputs": [],
   "source": [
    "def den():\n",
    "    a = input(\"enter a list of numbers seperated by space\")\n",
    "    a = a.split(' ')    \n",
    "    print(a)\n",
    "    even = 0\n",
    "    odd = 0\n",
    "    for i in a:\n",
    "        i =int(i)\n",
    "        if(i%2 == 0):\n",
    "            even = i+even\n",
    "        else:\n",
    "            odd = i+odd\n",
    "    print(\"odd element:{} and even element:{}\".format(odd,even))\n",
    "den()\n"
   ]
  },
  {
   "attachments": {},
   "cell_type": "markdown",
   "metadata": {},
   "source": [
    "### Create a function that takes two numbers as arguments (num, length) and returns a list of multiples of num until the list length reaches length.\n"
   ]
  },
  {
   "cell_type": "code",
   "execution_count": null,
   "metadata": {},
   "outputs": [],
   "source": [
    "num = int(input(\"enter the number\"))\n",
    "length  = int(input(\"enter the length\")) \n",
    "\n",
    "def dev(a,b):\n",
    "    l = []\n",
    "    for i in range(1,b+1):\n",
    "        multiple = i*a\n",
    "        l.append(multiple)\n",
    "    return l\n",
    "dev(num,length)"
   ]
  },
  {
   "attachments": {},
   "cell_type": "markdown",
   "metadata": {},
   "source": [
    "### Create a function that takes a list containing nested lists as an argument. Each sublist has 2 elements. The first element is the numerator and the second element is the denominator. Return the sum of the fractions rounded to the nearest whole number.\n"
   ]
  },
  {
   "cell_type": "code",
   "execution_count": null,
   "metadata": {},
   "outputs": [],
   "source": [
    "l = [[14,5],[30,5],[60,12]]\n",
    "\n",
    "print(l)\n",
    "\n",
    "def loc(a):\n",
    "    answer = 0\n",
    "    sum = 0\n",
    "    for i in a:\n",
    "        n = i[0]\n",
    "        d = i[1]\n",
    "        sum = n/d + sum\n",
    "    # print(sum)\n",
    "    sol = format(sum,'.1f')\n",
    "    onlyp= sol.split('.')\n",
    "        # print(onlyp)\n",
    "    if(int(onlyp[1])>5):\n",
    "        answer = int(onlyp[0])+1\n",
    "    else:\n",
    "        answer = int(onlyp[0])\n",
    "    print(answer)\n",
    "loc(l)"
   ]
  },
  {
   "attachments": {},
   "cell_type": "markdown",
   "metadata": {},
   "source": [
    "### Given three lists of integers: lst1, lst2, lst3, return the sum of integers which are common in all three lists"
   ]
  },
  {
   "cell_type": "code",
   "execution_count": null,
   "metadata": {},
   "outputs": [],
   "source": [
    "def sac():\n",
    "    l1 = []\n",
    "    l2 = []\n",
    "    l3 = []\n",
    "\n",
    "    n1 = int(input(\"number of elements in list a\"))\n",
    "    for i in range(n1):\n",
    "        a = int(input(\"enter the number\"))\n",
    "        l1.append(a)\n",
    "    n2 = int(input(\"number of elements in list a\"))\n",
    "    for i in range(n2):\n",
    "        a = int(input(\"enter the number\"))\n",
    "        l2.append(a)\n",
    "    n3 = int(input(\"number of elements in list a\"))\n",
    "    for i in range(n3):\n",
    "        a = int(input(\"enter the number\"))\n",
    "        l3.append(a)\n",
    "    print(l1,l2,l3)\n",
    "    cl = []\n",
    "    for i in l1:\n",
    "        if((i in l2) and (i in l3)):\n",
    "            cl.append(i)\n",
    "    print(cl)\n",
    "    sum =0 \n",
    "    for i in range(0,len(cl)):\n",
    "        sum = cl[i] +sum\n",
    "    print(sum)\n",
    "            \n",
    "\n",
    "\n",
    "    \n",
    "    \n",
    "                \n",
    "\n",
    "        \n",
    "sac()"
   ]
  },
  {
   "attachments": {},
   "cell_type": "markdown",
   "metadata": {},
   "source": [
    "### Create a function to test if a string is a valid pin or not.\n",
    "#### A valid pin has:\n",
    "1. Exactly 4 or 6 characters.\n",
    "2. Only numerical characters (0-9).\n",
    "3. No whitespace.\n"
   ]
  },
  {
   "cell_type": "code",
   "execution_count": 10,
   "metadata": {},
   "outputs": [
    {
     "data": {
      "text/plain": [
       "False"
      ]
     },
     "execution_count": 10,
     "metadata": {},
     "output_type": "execute_result"
    }
   ],
   "source": [
    "def valid():\n",
    "    n = input(\"enter the string\")\n",
    "    bool = True\n",
    "    l = []\n",
    "    if((len(n)==4) or (len(n)==6)):\n",
    "        bool = True\n",
    "    else:\n",
    "      bool = False\n",
    "      return bool\n",
    "    for i in n:\n",
    "        if(i>='0' and i<='9'):\n",
    "            bool = True\n",
    "        else:\n",
    "            bool = False\n",
    "            return bool \n",
    "    \n",
    "    return True\n",
    "          \n",
    "valid()"
   ]
  },
  {
   "cell_type": "code",
   "execution_count": 14,
   "metadata": {},
   "outputs": [
    {
     "data": {
      "text/plain": [
       "'sunnyn'"
      ]
     },
     "execution_count": 14,
     "metadata": {},
     "output_type": "execute_result"
    }
   ],
   "source": [
    "n = 'sunny'\n",
    "a = lambda a:a+'n'\n",
    "r = a(n)\n",
    "r"
   ]
  },
  {
   "attachments": {},
   "cell_type": "markdown",
   "metadata": {},
   "source": [
    "### Create a function that returns the indices of all occurrences of an item in the list.\n"
   ]
  },
  {
   "cell_type": "code",
   "execution_count": 16,
   "metadata": {},
   "outputs": [
    {
     "name": "stdout",
     "output_type": "stream",
     "text": [
      "{1: 0, 3: 0, 4: 0, 5: 0, 6: 0}\n"
     ]
    }
   ],
   "source": [
    "\n",
    "occ(a)"
   ]
  },
  {
   "attachments": {},
   "cell_type": "markdown",
   "metadata": {},
   "source": [
    "4625\n",
    "right position right number - black\n",
    "wrong position right number - white\n",
    "if "
   ]
  },
  {
   "cell_type": "code",
   "execution_count": 26,
   "metadata": {},
   "outputs": [
    {
     "name": "stdout",
     "output_type": "stream",
     "text": [
      "4 0\n"
     ]
    }
   ],
   "source": [
    "# s = '1234'\n",
    "s= input(\"enter your guess\")\n",
    "output = '4625'\n",
    "B = 0\n",
    "W = 0\n",
    "for i in range(0,4):\n",
    "    for j in range(0,4):\n",
    "        if(output[i] == s[j] and i == j):\n",
    "            B+=1\n",
    "        elif(output[i] == s[j]):\n",
    "            W+=1\n",
    "       \n",
    "print(B,W) "
   ]
  },
  {
   "cell_type": "code",
   "execution_count": 20,
   "metadata": {},
   "outputs": [
    {
     "data": {
      "text/plain": [
       "'1'"
      ]
     },
     "execution_count": 20,
     "metadata": {},
     "output_type": "execute_result"
    }
   ],
   "source": [
    "n = '1234'\n",
    "i = 0\n",
    "a = n[i]\n",
    "a"
   ]
  },
  {
   "attachments": {},
   "cell_type": "markdown",
   "metadata": {},
   "source": [
    "3 varibales \n",
    "1. hp \n",
    "att \n",
    "def\n",
    "\n",
    "\n",
    "\n",
    "\n"
   ]
  },
  {
   "cell_type": "code",
   "execution_count": 28,
   "metadata": {},
   "outputs": [
    {
     "data": {
      "text/plain": [
       "{'pHP': 12,\n",
       " 'pATK': 10,\n",
       " 'pDEF': 10,\n",
       " 'pPOT': 10,\n",
       " 'mHP': 20,\n",
       " 'mATK': 10,\n",
       " 'mDEF': 14}"
      ]
     },
     "execution_count": 28,
     "metadata": {},
     "output_type": "execute_result"
    }
   ],
   "source": [
    "battle={ 'pHP':12,'pATK':10,'pDEF':10,'pPOT':10,'mHP':20,'mATK':10,'mDEF':14}\n",
    "def bat(a):\n",
    "    whiile()\n",
    "\n",
    "bat(battle)"
   ]
  },
  {
   "attachments": {},
   "cell_type": "markdown",
   "metadata": {},
   "source": [
    "##### You are implementing a battle system for a simple role-playing game. A hero is fighting various monsters, and you have to determine the battle's outcome for each engaged skirmish. Hero and monsters share some stats:\n",
    "##### HP or Health Points: The amount of damage the character can sustain. If it reaches 0 (or less) the character dies.\n",
    "##### ATT or Attack: The character offensive capacity.\n",
    "##### DEF or Defense: The character defensive capacity.\n",
    "##### For either hero and monster, the damage inflicted is calculated subtracting the opponent's defense score from the attacker doubled attack score.\n",
    "##### In each round hero attacks first, and his damage rate is subtracted from the monster's HP. If the monster survives (HP > 0), it is his turn to attack. If the hero survives (HP > 0), a new round starts. The hero can also have some POT, or Healing Potions, in his backpack: only when his HP is equal to or lower than 10, a potion can (and must) be used for regaining 10 HP at the start of a new round. When the hero heals, he can't attack, but he receives only half damage from the monster's attack. Every potion can be used only once, then it must be discarded.\n",
    "##### Given a dictionary containing the character's stats (with p-prefix ones being the hero's stats and m-prefix ones being the monster's) you must return a string:\n",
    "##### \"Victory in x rounds\" if the hero wins.\n",
    "##### \"Game Over in x rounds\" if the monster wins.\n",
    "##### (with x being the number of rounds elapsed)\n"
   ]
  },
  {
   "cell_type": "code",
   "execution_count": 7,
   "metadata": {},
   "outputs": [
    {
     "name": "stdout",
     "output_type": "stream",
     "text": [
      "monster hp 10\n",
      "player hp -6\n",
      "MOnster is winner\n"
     ]
    }
   ],
   "source": [
    "def bat():\n",
    "    pHP=12\n",
    "    pATK=10\n",
    "    pDEF=10\n",
    "    pPOT=10\n",
    "    mHP=20\n",
    "    mATK=14\n",
    "    mDEF=10\n",
    "    while(pHP>0 and mHP>0):\n",
    "        mHP=mHP-((pATK * 2) - mDEF)\n",
    "        print(\"monster hp\",mHP)\n",
    "        if(mHP>0):\n",
    "            pHP=pHP-((mATK * 2) - pDEF)\n",
    "            print(\"player hp\",pHP)\n",
    "            if((pHP<=10) and (pHP>0) and pPOT!=0):\n",
    "                pHP = pHP+pPOT\n",
    "                print(\"player hp after healing\",pHP)\n",
    "                pPOT = 0\n",
    "            elif(pHP<=0):\n",
    "                print(\"MOnster is winner\")\n",
    "                break\n",
    "        else:\n",
    "            print(\"player is the winner\")\n",
    "\n",
    "             \n",
    "bat()\n",
    "         \n"
   ]
  },
  {
   "attachments": {},
   "cell_type": "markdown",
   "metadata": {},
   "source": [
    "### Create a function to check if a candidate is qualified in an imaginary coding interview of an imaginary tech startup.\n",
    "1. The criteria for a candidate to be qualified in the coding interview is:\n",
    "2. The candidate should have complete all the questions.\n",
    "3. The maximum time given to complete the interview is 120 minutes.\n",
    "4. The maximum time given for very easy questions is 5 minutes each.\n",
    "5. The maximum time given for easy questions is 10 minutes each.\n",
    "6. The maximum time given for medium questions is 15 minutes each.\n",
    "7. The maximum time given for hard questions is 20 minutes each.\n",
    "8. If all the above conditions are satisfied, return \"qualified\", else return \"disqualified\".\n",
    "9. You will be given a list of time taken by a candidate to solve a particular question and the total time taken by the candidate to complete the in terview.\n",
    "10. Given a list , in a true condition will always be in the format [very easy, very easy, easy, easy, medium, medium, hard, hard].\n",
    "11. The maximum time to complete the interview includes a buffer time of 20 minutes.\n"
   ]
  },
  {
   "cell_type": "code",
   "execution_count": 40,
   "metadata": {},
   "outputs": [
    {
     "data": {
      "text/plain": [
       "False"
      ]
     },
     "execution_count": 40,
     "metadata": {},
     "output_type": "execute_result"
    }
   ],
   "source": [
    "\n",
    "def dev():\n",
    "    l = ['very easy','very easy','easy','easy','medium','medium','hard','hard']\n",
    "    l =[5,5,10,10,15,15,20,20]\n",
    "\n",
    "    attempt = 8\n",
    "    attempttime = [3,4,8,8,15,15,20,20]\n",
    "    bool = True\n",
    "    if(l[0]<attempttime[0] or l[1]<attempttime[1]):\n",
    "            bool = False\n",
    "            return False\n",
    "\n",
    "    elif(l[2]<attempttime[2] or l[3]<attempttime[3]):\n",
    "            bool = False\n",
    "            return False\n",
    "\n",
    "    elif(l[4]<attempttime[4] or l[5]<attempttime[5]):\n",
    "            bool = False\n",
    "            return False\n",
    "\n",
    "    elif(l[6]<attempttime[6] or l[7]<attempttime[7]):\n",
    "            bool = False\n",
    "            return False\n",
    "\n",
    "    elif(sum(l)<sum(attempttime)):\n",
    "           bool = False\n",
    "           return False\n",
    "    return bool\n",
    "\n",
    "\n",
    "           \n",
    "    \n",
    "    \n",
    "    \n",
    "dev()"
   ]
  },
  {
   "attachments": {},
   "cell_type": "markdown",
   "metadata": {},
   "source": [
    "### The Atbash cipher is an encryption method in which each letter of a word is replaced with its \"mirror\" letter in the alphabet: A <=> Z; B <=> Y; C <=> X; etc. Create a function that takes a string and applies the Atbash cipher to it.\n"
   ]
  },
  {
   "cell_type": "code",
   "execution_count": 62,
   "metadata": {},
   "outputs": [
    {
     "name": "stdout",
     "output_type": "stream",
     "text": [
      "65\n",
      "66\n",
      "67\n",
      "68\n",
      "69\n",
      "['Z', 'Y', 'X', 'W', 'V']\n"
     ]
    }
   ],
   "source": [
    "def atbash():\n",
    "    n = input(\"enter the string\")\n",
    "    mi=[] \n",
    "    for i in n:\n",
    "        ascci_val = ord(i)\n",
    "        # print(ascci_val)\n",
    "        mirror_char = chr(90-(ascci_val-65))\n",
    "        mi.append(mirror_char)\n",
    "    # mirror = ''.join(mi)\n",
    "    print(mi)\n",
    "\n",
    "\n",
    "atbash()"
   ]
  },
  {
   "cell_type": "code",
   "execution_count": 63,
   "metadata": {},
   "outputs": [
    {
     "data": {
      "text/plain": [
       "array([[1., 0., 0., 0., 0.],\n",
       "       [0., 1., 0., 0., 0.],\n",
       "       [0., 0., 1., 0., 0.],\n",
       "       [0., 0., 0., 1., 0.],\n",
       "       [0., 0., 0., 0., 1.]])"
      ]
     },
     "execution_count": 63,
     "metadata": {},
     "output_type": "execute_result"
    }
   ],
   "source": [
    "import numpy as np\n",
    "n = 5\n",
    "ans = np.eye(n)\n",
    "ans\n"
   ]
  },
  {
   "cell_type": "code",
   "execution_count": 6,
   "metadata": {},
   "outputs": [
    {
     "name": "stdout",
     "output_type": "stream",
     "text": [
      "0\n",
      "[2]\n",
      "2\n",
      "[2, 2, 3]\n",
      "5\n"
     ]
    }
   ],
   "source": [
    "n = int(input(\"enter the number\"))\n",
    "bool = False\n",
    "def dev(n):\n",
    "    l = []\n",
    " \n",
    "    for i in range(1,n+1):\n",
    "        sum = 1\n",
    "        for j in range(2,n+1):\n",
    "            print(sum)\n",
    "            sum = sum + j\n",
    "            l.append(j)\n",
    "            if(sum>n):\n",
    "                bool = True\n",
    "                break\n",
    "            elif(sum == n):\n",
    "                return l\n",
    "            else:\n",
    "                print(l)\n",
    "                l.append(j)\n",
    "        if(bool == True):\n",
    "            break\n",
    "]]\n",
    "dev(n)"
   ]
  },
  {
   "attachments": {},
   "cell_type": "markdown",
   "metadata": {},
   "source": [
    "### Write a program that takes an integer as input from the user. Create a custom exception called \"EvenNumberException\" that is raised when the input is an even number. Handle this exception by displaying an error message\n"
   ]
  },
  {
   "cell_type": "code",
   "execution_count": 28,
   "metadata": {},
   "outputs": [
    {
     "name": "stdout",
     "output_type": "stream",
     "text": [
      "is an even number\n"
     ]
    }
   ],
   "source": [
    "# n = int(input(\"enter the number\"))\n",
    "# try :\n",
    "#     if(n%2 == 0):\n",
    "#         print(\"entered number is even\")\n",
    "# except:\n",
    "#     print('an error occurred')\n",
    "# # else:\n",
    "# #     print('entered number {} is not even'.format(n))\n",
    "\n",
    "\n",
    "class CustomException(Exception):\n",
    "    pass\n",
    "\n",
    "def custom(data):\n",
    "    if(n%2==0):\n",
    "        raise CustomException(\"is an even number\")\n",
    "\n",
    "try:\n",
    "    data = 4\n",
    "    custom(data)\n",
    "except CustomException as e:\n",
    "    print(e) \n"
   ]
  },
  {
   "attachments": {},
   "cell_type": "markdown",
   "metadata": {},
   "source": [
    "### Write a program that asks the user to enter their age. Use an assert statement to raise an AssertionError if the age entered is negative. Handle this exception by displaying an error message\n"
   ]
  },
  {
   "cell_type": "code",
   "execution_count": 31,
   "metadata": {},
   "outputs": [
    {
     "ename": "AssertionError",
     "evalue": "an error occurred",
     "output_type": "error",
     "traceback": [
      "\u001b[1;31m---------------------------------------------------------------------------\u001b[0m",
      "\u001b[1;31mAssertionError\u001b[0m                            Traceback (most recent call last)",
      "Cell \u001b[1;32mIn[31], line 3\u001b[0m\n\u001b[0;32m      1\u001b[0m n \u001b[39m=\u001b[39m \u001b[39mint\u001b[39m(\u001b[39minput\u001b[39m(\u001b[39m\"\u001b[39m\u001b[39menter the age\u001b[39m\u001b[39m\"\u001b[39m))\n\u001b[1;32m----> 3\u001b[0m \u001b[39massert\u001b[39;00m(n\u001b[39m>\u001b[39m\u001b[39m0\u001b[39m), \u001b[39m\"\u001b[39m\u001b[39man error occurred\u001b[39m\u001b[39m\"\u001b[39m\n\u001b[0;32m      4\u001b[0m \u001b[39mprint\u001b[39m(\u001b[39m\"\u001b[39m\u001b[39mthe age is \u001b[39m\u001b[39m{}\u001b[39;00m\u001b[39m\"\u001b[39m\u001b[39m.\u001b[39mformat(n))\n",
      "\u001b[1;31mAssertionError\u001b[0m: an error occurred"
     ]
    }
   ],
   "source": [
    "\n",
    "n = int(input(\"enter the age\"))\n",
    "\n",
    "assert(n>0), \"an error occurred\"\n",
    "print(\"the age is {}\".format(n))\n"
   ]
  },
  {
   "attachments": {},
   "cell_type": "markdown",
   "metadata": {},
   "source": [
    "### Write a program that prompts the user to enter the name of a file. Handle the FileNotFoundError exception by displaying an error message when the specified file is not found. If the file is found, read its contents and display them\n"
   ]
  },
  {
   "cell_type": "code",
   "execution_count": null,
   "metadata": {},
   "outputs": [],
   "source": [
    "n = input('enter name of the file')\n",
    "f = open(\"demofile.txt\", \"r\")\n",
    "print(f.read())"
   ]
  }
 ],
 "metadata": {
  "kernelspec": {
   "display_name": "Python 3",
   "language": "python",
   "name": "python3"
  },
  "language_info": {
   "codemirror_mode": {
    "name": "ipython",
    "version": 3
   },
   "file_extension": ".py",
   "mimetype": "text/x-python",
   "name": "python",
   "nbconvert_exporter": "python",
   "pygments_lexer": "ipython3",
   "version": "3.11.4"
  },
  "orig_nbformat": 4
 },
 "nbformat": 4,
 "nbformat_minor": 2
}
